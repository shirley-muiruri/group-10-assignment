{
  "nbformat": 4,
  "nbformat_minor": 0,
  "metadata": {
    "colab": {
      "provenance": []
    },
    "kernelspec": {
      "name": "python3",
      "display_name": "Python 3"
    },
    "language_info": {
      "name": "python"
    }
  },
  "cells": [
    {
      "cell_type": "code",
      "source": [
        "#declare and initialize variables\n",
        "university_names=(\"university of nairobi\", \"moi university\", \"kenyatta university\", \"jkuat\")\n",
        "university_locations=(\"nairobi\", \"kisumu\", \"nakuru\", \"kilifi\")\n",
        "student_population=(\"84000\", \"52815\", \"67907\", \"50000\")\n",
        "print(university_names)\n",
        "print(university_locations)\n",
        "print(student_population)"
      ],
      "metadata": {
        "colab": {
          "base_uri": "https://localhost:8080/"
        },
        "id": "sJub-_6gimdt",
        "outputId": "76b09474-960f-4017-d76a-c26a74fa23ef"
      },
      "execution_count": null,
      "outputs": [
        {
          "output_type": "stream",
          "name": "stdout",
          "text": [
            "('university of nairobi', 'moi university', 'kenyatta university', 'jkuat')\n",
            "('nairobi', 'kisumu', 'nakuru', 'kilifi')\n",
            "('84000', '52815', '67907', '50000')\n"
          ]
        }
      ]
    },
    {
      "cell_type": "code",
      "source": [
        "university_locations=('nairobi') #assigns the string 'nairobi' to the variable\n",
        "print(type(university_locations))"
      ],
      "metadata": {
        "colab": {
          "base_uri": "https://localhost:8080/"
        },
        "id": "LnaI2V2himPi",
        "outputId": "5ee3c8b8-62e0-45ef-fc22-ed50a88e623b"
      },
      "execution_count": 14,
      "outputs": [
        {
          "output_type": "stream",
          "name": "stdout",
          "text": [
            "<class 'str'>\n"
          ]
        }
      ]
    },
    {
      "cell_type": "code",
      "source": [
        "#a list of public universities, their locations and student population\n",
        "universities= [{'university of nairobi', 'nairobi', '84000'},{'moi university','nairobi','52815'},{'kenyatta university','nairobi','67907'},{'jkuat', 'juja','50000'}]\n",
        "print(universities)"
      ],
      "metadata": {
        "colab": {
          "base_uri": "https://localhost:8080/"
        },
        "id": "5GWEfpa99W1j",
        "outputId": "4b6ed8a1-0ce7-46c1-8fa2-521ff1dec649"
      },
      "execution_count": null,
      "outputs": [
        {
          "output_type": "stream",
          "name": "stdout",
          "text": [
            "[{'nairobi', 'university of nairobi', '84000'}, {'nairobi', '52815', 'moi university'}, {'kenyatta university', 'nairobi', '67907'}, {'juja', 'jkuat', '50000'}]\n"
          ]
        }
      ]
    },
    {
      "cell_type": "code",
      "source": [
        "universities.append({'maseno university', 'kisumu','27000'})\n",
        "print(universities)"
      ],
      "metadata": {
        "colab": {
          "base_uri": "https://localhost:8080/"
        },
        "id": "VfR7iNYIAE-s",
        "outputId": "a462e87c-1bd1-4106-e77f-3e70eb018529"
      },
      "execution_count": null,
      "outputs": [
        {
          "output_type": "stream",
          "name": "stdout",
          "text": [
            "[{'nairobi', 'university of nairobi', '84000'}, {'nairobi', '52815', 'moi university'}, {'kenyatta university', 'nairobi', '67907'}, {'juja', 'jkuat', '50000'}, {'kisumu', 'maseno university', '27000'}]\n"
          ]
        }
      ]
    },
    {
      "cell_type": "code",
      "source": [
        "universities.extend([{'egerton university', 'nakuru', '16000'}, {'pwani university', 'kilifi','8000'}])\n",
        "print(universities)"
      ],
      "metadata": {
        "id": "wwInq9BEBW2S",
        "colab": {
          "base_uri": "https://localhost:8080/"
        },
        "outputId": "1ff4404f-5803-44d4-80c9-da45086c3082"
      },
      "execution_count": null,
      "outputs": [
        {
          "output_type": "stream",
          "name": "stdout",
          "text": [
            "[{'nairobi', 'university of nairobi', '84000'}, {'nairobi', '52815', 'moi university'}, {'kenyatta university', 'nairobi', '67907'}, {'juja', 'jkuat', '50000'}, {'kisumu', 'maseno university', '27000'}, {'16000', 'egerton university', 'nakuru'}, {'kilifi', '8000', 'pwani university'}]\n"
          ]
        }
      ]
    },
    {
      "cell_type": "code",
      "source": [
        "universities.remove({'maseno university', 'kisumu','27000'})\n",
        "print(universities)"
      ],
      "metadata": {
        "colab": {
          "base_uri": "https://localhost:8080/"
        },
        "id": "FnotgBHG8s3X",
        "outputId": "483e8dd8-9147-49da-d24e-2cf5dcdad8a3"
      },
      "execution_count": null,
      "outputs": [
        {
          "output_type": "stream",
          "name": "stdout",
          "text": [
            "[{'nairobi', 'university of nairobi', '84000'}, {'nairobi', '52815', 'moi university'}, {'kenyatta university', 'nairobi', '67907'}, {'juja', 'jkuat', '50000'}, {'16000', 'egerton university', 'nakuru'}, {'kilifi', '8000', 'pwani university'}]\n"
          ]
        }
      ]
    },
    {
      "cell_type": "code",
      "source": [
        "#define a tuple containing university loctions\n",
        "university_locations =('nairobi', 'kisumu', 'nakuru', 'kilifi',)\n",
        "#print the entire tuple of university locations\n",
        "print(university_locations)"
      ],
      "metadata": {
        "colab": {
          "base_uri": "https://localhost:8080/"
        },
        "id": "uIgO_TGbg9CH",
        "outputId": "2a6f41fb-601f-4604-e7af-745d854e26f4"
      },
      "execution_count": 10,
      "outputs": [
        {
          "output_type": "stream",
          "name": "stdout",
          "text": [
            "('nairobi', 'kisumu', 'nakuru', 'kilifi')\n"
          ]
        }
      ]
    },
    {
      "cell_type": "code",
      "source": [
        "number_of_students =(84000, 52815, 67907, 50000) #define a tuple containing the number of students in different university locations\n",
        "#print entire tuple of student numbers\n",
        "print(number_of_students)"
      ],
      "metadata": {
        "colab": {
          "base_uri": "https://localhost:8080/"
        },
        "id": "OhHnFFyb5yk6",
        "outputId": "64539722-ff96-46f9-8e7b-3fe201698270"
      },
      "execution_count": null,
      "outputs": [
        {
          "output_type": "stream",
          "name": "stdout",
          "text": [
            "(84000, 52815, 67907, 50000)\n"
          ]
        }
      ]
    },
    {
      "cell_type": "code",
      "source": [
        "#loop through tuple and print each location individually\n",
        "for location in university_locations:\n",
        "  print(location)"
      ],
      "metadata": {
        "colab": {
          "base_uri": "https://localhost:8080/"
        },
        "id": "t5K36_-36iRE",
        "outputId": "e5d01d9b-5f8e-43e6-8c24-dd240fc47f90"
      },
      "execution_count": 11,
      "outputs": [
        {
          "output_type": "stream",
          "name": "stdout",
          "text": [
            "nairobi\n",
            "kisumu\n",
            "nakuru\n",
            "kilifi\n"
          ]
        }
      ]
    },
    {
      "cell_type": "code",
      "source": [
        "#a single element tuple showing a number of students\n",
        "number_of_students = (84000,)\n",
        "print(number_of_students)"
      ],
      "metadata": {
        "colab": {
          "base_uri": "https://localhost:8080/"
        },
        "id": "IKIobVq8WkyZ",
        "outputId": "6a686e38-738b-4abe-a08d-b4013378e0b0"
      },
      "execution_count": 12,
      "outputs": [
        {
          "output_type": "stream",
          "name": "stdout",
          "text": [
            "<class 'tuple'>\n"
          ]
        }
      ]
    },
    {
      "cell_type": "code",
      "source": [
        "#a set representing the number of students in each university\n",
        "number_of_students= {84000, 52815, 67907, 50000}\n",
        "print(number_of_students)"
      ],
      "metadata": {
        "colab": {
          "base_uri": "https://localhost:8080/"
        },
        "id": "-wLr6j5yPyAJ",
        "outputId": "b44235d4-0253-4696-8b72-974dabdbabe2"
      },
      "execution_count": null,
      "outputs": [
        {
          "output_type": "stream",
          "name": "stdout",
          "text": [
            "{84000, 67907, 50000, 52815}\n"
          ]
        }
      ]
    },
    {
      "cell_type": "code",
      "source": [
        "number_of_students.add(27000)\n",
        "print(number_of_students)"
      ],
      "metadata": {
        "colab": {
          "base_uri": "https://localhost:8080/"
        },
        "id": "Qx0XfwdCFFiN",
        "outputId": "9b298a34-4607-4a1f-de20-9aaccb8f6bb1"
      },
      "execution_count": null,
      "outputs": [
        {
          "output_type": "stream",
          "name": "stdout",
          "text": [
            "{84000, 67907, 52815, 50000, 27000}\n"
          ]
        }
      ]
    },
    {
      "cell_type": "code",
      "source": [
        "number_of_students.update([27000,16000,8000])\n",
        "print(number_of_students)"
      ],
      "metadata": {
        "colab": {
          "base_uri": "https://localhost:8080/"
        },
        "id": "Nym_qSEQF2g6",
        "outputId": "81cfa3eb-c6ff-41e9-ba1c-4e17c9fdf8aa"
      },
      "execution_count": null,
      "outputs": [
        {
          "output_type": "stream",
          "name": "stdout",
          "text": [
            "{84000, 16000, 8000, 67907, 52815, 50000, 27000}\n"
          ]
        }
      ]
    },
    {
      "cell_type": "code",
      "source": [
        "number_of_students.remove(27000)\n",
        "print(number_of_students)"
      ],
      "metadata": {
        "colab": {
          "base_uri": "https://localhost:8080/"
        },
        "id": "wZFIFNaOGIIG",
        "outputId": "dc4af5dc-f63e-41e5-9027-aa5587809f56"
      },
      "execution_count": null,
      "outputs": [
        {
          "output_type": "stream",
          "name": "stdout",
          "text": [
            "{84000, 16000, 8000, 67907, 52815, 50000}\n"
          ]
        }
      ]
    },
    {
      "cell_type": "code",
      "source": [
        "student_population= {84000,52815,67907}\n",
        "print(52815 in student_population)"
      ],
      "metadata": {
        "colab": {
          "base_uri": "https://localhost:8080/"
        },
        "id": "hKEldJqJGnYA",
        "outputId": "5f12dd89-d60a-4914-9a1e-dc0890e85c63"
      },
      "execution_count": null,
      "outputs": [
        {
          "output_type": "stream",
          "name": "stdout",
          "text": [
            "True\n"
          ]
        }
      ]
    },
    {
      "cell_type": "code",
      "source": [
        "print(50000 in student_population) #50000 is not in the student population"
      ],
      "metadata": {
        "colab": {
          "base_uri": "https://localhost:8080/"
        },
        "id": "tpbdVHSRKRva",
        "outputId": "f1e59bbb-fca4-4419-fdea-232f0306edfe"
      },
      "execution_count": null,
      "outputs": [
        {
          "output_type": "stream",
          "name": "stdout",
          "text": [
            "False\n"
          ]
        }
      ]
    },
    {
      "cell_type": "code",
      "source": [
        "#define a dictionary where the keys are university names\n",
        "#and the values are their respective student populations\n",
        "universities= {'university of nairobi':'84000', 'moi university':'52815', 'kenyatta university':'67907', 'jkuat':'50000'}\n",
        "print(universities)"
      ],
      "metadata": {
        "colab": {
          "base_uri": "https://localhost:8080/"
        },
        "id": "Bz2Qf7czKZgJ",
        "outputId": "a7e58214-6434-4fc8-d592-dcb5748cba28"
      },
      "execution_count": null,
      "outputs": [
        {
          "output_type": "stream",
          "name": "stdout",
          "text": [
            "{'university of nairobi': '84000', 'moi university': '52815', 'kenyatta university': '67907', 'jkuat': '50000'}\n"
          ]
        }
      ]
    },
    {
      "cell_type": "code",
      "source": [
        "#adding a new entry to the dictionary\n",
        "universities['maseno university']='27000'\n",
        "\n",
        "#print the updated dictionary\n",
        "print(universities)"
      ],
      "metadata": {
        "colab": {
          "base_uri": "https://localhost:8080/"
        },
        "id": "ohaeqU_6MFtO",
        "outputId": "bc11c8da-f8bd-4855-8cbc-0d90d8f99789"
      },
      "execution_count": null,
      "outputs": [
        {
          "output_type": "stream",
          "name": "stdout",
          "text": [
            "{'university of nairobi': '84000', 'moi university': '52815', 'kenyatta university': '67907', 'jkuat': '50000', 'maseno university': '27000'}\n"
          ]
        }
      ]
    },
    {
      "cell_type": "code",
      "source": [
        "universities['university of nairobi']"
      ],
      "metadata": {
        "colab": {
          "base_uri": "https://localhost:8080/",
          "height": 35
        },
        "id": "wqEMIAihMXV8",
        "outputId": "532e01d4-2ef4-4905-b699-4b9e06c9f686"
      },
      "execution_count": null,
      "outputs": [
        {
          "output_type": "execute_result",
          "data": {
            "text/plain": [
              "'84000'"
            ],
            "application/vnd.google.colaboratory.intrinsic+json": {
              "type": "string"
            }
          },
          "metadata": {},
          "execution_count": 18
        }
      ]
    },
    {
      "cell_type": "code",
      "source": [
        "del universities['university of nairobi']\n",
        "print(universities)"
      ],
      "metadata": {
        "colab": {
          "base_uri": "https://localhost:8080/"
        },
        "id": "cgZLxG9GM44J",
        "outputId": "d998578a-a286-47b4-c82e-d478bfccc6e6"
      },
      "execution_count": null,
      "outputs": [
        {
          "output_type": "stream",
          "name": "stdout",
          "text": [
            "{'moi university': '52815', 'kenyatta university': '67907', 'jkuat': '50000', 'maseno university': '27000'}\n"
          ]
        }
      ]
    },
    {
      "cell_type": "code",
      "source": [
        "universities= {'moi university': '52815', 'kenyatta university': '67907', 'jkuat': '50000', 'maseno university': '27000'}\n",
        "universities['egerton university']='16000'\n",
        "universities['pwani university']='8000'\n",
        "print(universities)"
      ],
      "metadata": {
        "colab": {
          "base_uri": "https://localhost:8080/"
        },
        "id": "pNrAiAnmOMia",
        "outputId": "7b692e85-73ae-47f9-bd22-3f2d159c7cac"
      },
      "execution_count": null,
      "outputs": [
        {
          "output_type": "stream",
          "name": "stdout",
          "text": [
            "{'moi university': '52815', 'kenyatta university': '67907', 'jkuat': '50000', 'maseno university': '27000', 'egerton university': '16000', 'pwani university': '8000'}\n"
          ]
        }
      ]
    },
    {
      "cell_type": "code",
      "source": [
        "#get a list of university names\n",
        "list[universities.keys()]"
      ],
      "metadata": {
        "colab": {
          "base_uri": "https://localhost:8080/"
        },
        "id": "TxkSzw8PPKII",
        "outputId": "293fc143-bb2a-41cd-a55b-079527becd90"
      },
      "execution_count": null,
      "outputs": [
        {
          "output_type": "execute_result",
          "data": {
            "text/plain": [
              "list[dict_keys(['university of nairobi', 'moi university', 'kenyatta university', 'jkuat'])]"
            ]
          },
          "metadata": {},
          "execution_count": 21
        }
      ]
    },
    {
      "cell_type": "code",
      "source": [
        "sorted(universities.keys())"
      ],
      "metadata": {
        "colab": {
          "base_uri": "https://localhost:8080/"
        },
        "id": "2BH4y3QLPOTF",
        "outputId": "fb171d64-624f-43a5-82f3-e2804671409e"
      },
      "execution_count": null,
      "outputs": [
        {
          "output_type": "execute_result",
          "data": {
            "text/plain": [
              "['jkuat', 'kenyatta university', 'moi university', 'university of nairobi']"
            ]
          },
          "metadata": {},
          "execution_count": 23
        }
      ]
    },
    {
      "cell_type": "code",
      "source": [
        "#check whether 'maseno university' is one of the keys\n",
        "'maseno university' in universities"
      ],
      "metadata": {
        "colab": {
          "base_uri": "https://localhost:8080/"
        },
        "id": "XDcZILZ1PasV",
        "outputId": "f32a4ff6-e967-49f2-a39e-cce279925966"
      },
      "execution_count": null,
      "outputs": [
        {
          "output_type": "execute_result",
          "data": {
            "text/plain": [
              "True"
            ]
          },
          "metadata": {},
          "execution_count": 25
        }
      ]
    },
    {
      "cell_type": "code",
      "source": [
        "#check whether 'maseno university' is not one of the keys\n",
        "'maseno university' not in universities"
      ],
      "metadata": {
        "colab": {
          "base_uri": "https://localhost:8080/"
        },
        "id": "0Sx4TB9ePi6g",
        "outputId": "c8a9065b-597c-441e-9b70-3da058bc8f60"
      },
      "execution_count": null,
      "outputs": [
        {
          "output_type": "execute_result",
          "data": {
            "text/plain": [
              "False"
            ]
          },
          "metadata": {},
          "execution_count": 26
        }
      ]
    },
    {
      "cell_type": "code",
      "source": [
        "#define a dictionary with details about a university\n",
        "universities= {'school':'university of nairobi', 'population':'84000', 'location':'nairobi'}\n",
        "#print the value associated with the key 'school'\n",
        "print(universities['school'])\n",
        "#print the value associated witht the key 'population'\n",
        "print(universities['population'])\n",
        "#print the value associated with the key 'location'\n",
        "print(universities['location'])"
      ],
      "metadata": {
        "id": "3o6oDc3vPxCQ",
        "colab": {
          "base_uri": "https://localhost:8080/"
        },
        "outputId": "0991cbaf-5892-4872-9eff-7ea8436adb8e"
      },
      "execution_count": null,
      "outputs": [
        {
          "output_type": "stream",
          "name": "stdout",
          "text": [
            "university of nairobi\n",
            "84000\n",
            "nairobi\n"
          ]
        }
      ]
    },
    {
      "cell_type": "code",
      "source": [],
      "metadata": {
        "id": "vMUMvdyPXI2v"
      },
      "execution_count": null,
      "outputs": []
    }
  ]
}